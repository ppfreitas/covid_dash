{
 "cells": [
  {
   "cell_type": "code",
   "execution_count": 2,
   "metadata": {
    "scrolled": true
   },
   "outputs": [
    {
     "name": "stderr",
     "output_type": "stream",
     "text": [
      "── \u001b[1mAttaching packages\u001b[22m ─────────────────────────────────────── tidyverse 1.3.0 ──\n",
      "\n",
      "\u001b[32m✔\u001b[39m \u001b[34mggplot2\u001b[39m 3.2.1     \u001b[32m✔\u001b[39m \u001b[34mpurrr  \u001b[39m 0.3.3\n",
      "\u001b[32m✔\u001b[39m \u001b[34mtibble \u001b[39m 2.1.3     \u001b[32m✔\u001b[39m \u001b[34mdplyr  \u001b[39m 0.8.4\n",
      "\u001b[32m✔\u001b[39m \u001b[34mtidyr  \u001b[39m 1.0.2     \u001b[32m✔\u001b[39m \u001b[34mstringr\u001b[39m 1.4.0\n",
      "\u001b[32m✔\u001b[39m \u001b[34mreadr  \u001b[39m 1.3.1     \u001b[32m✔\u001b[39m \u001b[34mforcats\u001b[39m 0.4.0\n",
      "\n",
      "── \u001b[1mConflicts\u001b[22m ────────────────────────────────────────── tidyverse_conflicts() ──\n",
      "\u001b[31m✖\u001b[39m \u001b[34mdplyr\u001b[39m::\u001b[32mfilter()\u001b[39m masks \u001b[34mstats\u001b[39m::filter()\n",
      "\u001b[31m✖\u001b[39m \u001b[34mdplyr\u001b[39m::\u001b[32mlag()\u001b[39m    masks \u001b[34mstats\u001b[39m::lag()\n",
      "\n"
     ]
    }
   ],
   "source": [
    "library(tidyverse)"
   ]
  },
  {
   "cell_type": "code",
   "execution_count": 3,
   "metadata": {},
   "outputs": [],
   "source": [
    "gen_data <- function(n,d){\n",
    "    sds <- c(1/(1:d))\n",
    "    data <- matrix(nrow = n, ncol = d+1)\n",
    "    for (row in 1:n){\n",
    "        data[row,1:d] <- rnorm(n = d,mean = 0,sd = sds)\n",
    "    }\n",
    "    epsilon <- rnorm(n = n,mean = 0,sd = 1)\n",
    "    data[,d+1] <- apply(data[,1:d],1,sum)\n",
    "    data[,d+1] <- data[,d+1] + epsilon\n",
    "    return(list(\"x\" = data[,1:d], \"y\" = data[,d+1]))\n",
    "}"
   ]
  },
  {
   "cell_type": "code",
   "execution_count": 244,
   "metadata": {
    "scrolled": true
   },
   "outputs": [],
   "source": [
    "mse <- function(y,y_ols){\n",
    "    diff <- c(y_ols) - c(y)\n",
    "    return(mean(diff*diff))\n",
    "}"
   ]
  },
  {
   "cell_type": "code",
   "execution_count": 209,
   "metadata": {},
   "outputs": [],
   "source": [
    "# ols\n",
    "ols_solver <- function(X, y){\n",
    "    return(solve(t(X)%*%X)%*%t(X)%*%y)\n",
    "}\n",
    "\n",
    "predict_ols <- function(weights,X){\n",
    "    return(X%*%weights)\n",
    "}"
   ]
  },
  {
   "cell_type": "markdown",
   "metadata": {},
   "source": [
    "## Gen data"
   ]
  },
  {
   "cell_type": "code",
   "execution_count": 265,
   "metadata": {
    "scrolled": true
   },
   "outputs": [],
   "source": [
    "data <- gen_data(10000,3)\n",
    "train_share <- floor(nrow(data$x)*0.7)\n",
    "\n",
    "X_train <- data$x[1:train_share,]\n",
    "X_test <- data$x[(train_share+1):nrow(data$x),]\n",
    "\n",
    "y_train <- data$y[1:train_share]\n",
    "y_test <- data$y[(train_share+1):nrow(data$x)]"
   ]
  },
  {
   "cell_type": "code",
   "execution_count": 266,
   "metadata": {},
   "outputs": [
    {
     "data": {
      "text/html": [
       "1.00526743989667"
      ],
      "text/latex": [
       "1.00526743989667"
      ],
      "text/markdown": [
       "1.00526743989667"
      ],
      "text/plain": [
       "[1] 1.005267"
      ]
     },
     "metadata": {},
     "output_type": "display_data"
    }
   ],
   "source": [
    "# RUN OLS\n",
    "weight <- ols_solver(X_train, y_train)\n",
    "y_ols <- predict_ols(weight, X_test)\n",
    "mse(y_ols,y_test)"
   ]
  },
  {
   "cell_type": "code",
   "execution_count": 163,
   "metadata": {},
   "outputs": [],
   "source": [
    "# GD\n",
    "w <- rep(x = 0,3)\n",
    "weights <- matrix(nrow = 3, ncol=1)\n",
    "step <- 0.5"
   ]
  },
  {
   "cell_type": "code",
   "execution_count": 166,
   "metadata": {},
   "outputs": [
    {
     "data": {
      "text/html": [
       "<table>\n",
       "<caption>A matrix: 3 × 1 of type dbl</caption>\n",
       "<tbody>\n",
       "\t<tr><td>1.04457375</td></tr>\n",
       "\t<tr><td>0.24344894</td></tr>\n",
       "\t<tr><td>0.06989232</td></tr>\n",
       "</tbody>\n",
       "</table>\n"
      ],
      "text/latex": [
       "A matrix: 3 × 1 of type dbl\n",
       "\\begin{tabular}{l}\n",
       "\t 1.04457375\\\\\n",
       "\t 0.24344894\\\\\n",
       "\t 0.06989232\\\\\n",
       "\\end{tabular}\n"
      ],
      "text/markdown": [
       "\n",
       "A matrix: 3 × 1 of type dbl\n",
       "\n",
       "| 1.04457375 |\n",
       "| 0.24344894 |\n",
       "| 0.06989232 |\n",
       "\n"
      ],
      "text/plain": [
       "     [,1]      \n",
       "[1,] 1.04457375\n",
       "[2,] 0.24344894\n",
       "[3,] 0.06989232"
      ]
     },
     "metadata": {},
     "output_type": "display_data"
    }
   ],
   "source": [
    "w <- w - (t(t(w)%*%t(X)%*%X) - t(X)%*%matrix(y))*2/nrow(X)*step\n",
    "weights <- cbind(w,weights)\n",
    "w"
   ]
  },
  {
   "cell_type": "code",
   "execution_count": 181,
   "metadata": {},
   "outputs": [
    {
     "data": {
      "text/html": [
       "4"
      ],
      "text/latex": [
       "4"
      ],
      "text/markdown": [
       "4"
      ],
      "text/plain": [
       "[1] 4"
      ]
     },
     "metadata": {},
     "output_type": "display_data"
    }
   ],
   "source": [
    "floor(x = 4.6)"
   ]
  },
  {
   "cell_type": "code",
   "execution_count": 169,
   "metadata": {
    "scrolled": true
   },
   "outputs": [
    {
     "data": {
      "text/html": [
       "<table>\n",
       "<caption>A matrix: 3 × 1 of type dbl</caption>\n",
       "<tbody>\n",
       "\t<tr><td>1.3524055</td></tr>\n",
       "\t<tr><td>0.2910188</td></tr>\n",
       "\t<tr><td>0.0358449</td></tr>\n",
       "</tbody>\n",
       "</table>\n"
      ],
      "text/latex": [
       "A matrix: 3 × 1 of type dbl\n",
       "\\begin{tabular}{l}\n",
       "\t 1.3524055\\\\\n",
       "\t 0.2910188\\\\\n",
       "\t 0.0358449\\\\\n",
       "\\end{tabular}\n"
      ],
      "text/markdown": [
       "\n",
       "A matrix: 3 × 1 of type dbl\n",
       "\n",
       "| 1.3524055 |\n",
       "| 0.2910188 |\n",
       "| 0.0358449 |\n",
       "\n"
      ],
      "text/plain": [
       "     [,1]     \n",
       "[1,] 1.3524055\n",
       "[2,] 0.2910188\n",
       "[3,] 0.0358449"
      ]
     },
     "metadata": {},
     "output_type": "display_data"
    }
   ],
   "source": [
    "matrix(data = rowMeans(weights[,1:(ncol(weights)-1)]))"
   ]
  },
  {
   "cell_type": "code",
   "execution_count": null,
   "metadata": {},
   "outputs": [],
   "source": [
    "w <- w - (t(t(w)%*%t(X)%*%X) - t(X)%*%matrix(y))*2/10000*step\n",
    "w"
   ]
  },
  {
   "cell_type": "code",
   "execution_count": 277,
   "metadata": {},
   "outputs": [
    {
     "data": {
      "text/html": [
       "<style>\n",
       ".list-inline {list-style: none; margin:0; padding: 0}\n",
       ".list-inline>li {display: inline-block}\n",
       ".list-inline>li:not(:last-child)::after {content: \"\\00b7\"; padding: 0 .5ex}\n",
       "</style>\n",
       "<ol class=list-inline><li>0.5</li><li>0.5</li><li>0.5</li></ol>\n"
      ],
      "text/latex": [
       "\\begin{enumerate*}\n",
       "\\item 0.5\n",
       "\\item 0.5\n",
       "\\item 0.5\n",
       "\\end{enumerate*}\n"
      ],
      "text/markdown": [
       "1. 0.5\n",
       "2. 0.5\n",
       "3. 0.5\n",
       "\n",
       "\n"
      ],
      "text/plain": [
       "[1] 0.5 0.5 0.5"
      ]
     },
     "metadata": {},
     "output_type": "display_data"
    }
   ],
   "source": [
    "w <- rep(x = .5,3)\n",
    "w"
   ]
  },
  {
   "cell_type": "code",
   "execution_count": 120,
   "metadata": {},
   "outputs": [
    {
     "data": {
      "text/html": [
       "<table>\n",
       "<caption>A matrix: 10 × 3 of type dbl</caption>\n",
       "<tbody>\n",
       "\t<tr><td>-2.0143042</td><td>-0.98516170</td><td> 0.424168592</td></tr>\n",
       "\t<tr><td>-0.5371015</td><td> 0.53175826</td><td>-0.502902814</td></tr>\n",
       "\t<tr><td>-0.3393259</td><td> 0.09232117</td><td>-0.115240123</td></tr>\n",
       "\t<tr><td>-1.5317545</td><td>-0.35196801</td><td>-0.635547561</td></tr>\n",
       "\t<tr><td>-2.5895558</td><td> 1.62537096</td><td>-0.900751720</td></tr>\n",
       "\t<tr><td> 1.8661777</td><td>-0.33056786</td><td> 0.018597724</td></tr>\n",
       "\t<tr><td>-0.0164274</td><td> 0.23072836</td><td>-0.005963838</td></tr>\n",
       "\t<tr><td> 0.8658126</td><td>-1.24727031</td><td>-0.600780348</td></tr>\n",
       "\t<tr><td>-0.2098829</td><td> 0.10099371</td><td> 0.050961033</td></tr>\n",
       "\t<tr><td>-1.4323949</td><td>-0.27476195</td><td> 0.611545222</td></tr>\n",
       "</tbody>\n",
       "</table>\n"
      ],
      "text/latex": [
       "A matrix: 10 × 3 of type dbl\n",
       "\\begin{tabular}{lll}\n",
       "\t -2.0143042 & -0.98516170 &  0.424168592\\\\\n",
       "\t -0.5371015 &  0.53175826 & -0.502902814\\\\\n",
       "\t -0.3393259 &  0.09232117 & -0.115240123\\\\\n",
       "\t -1.5317545 & -0.35196801 & -0.635547561\\\\\n",
       "\t -2.5895558 &  1.62537096 & -0.900751720\\\\\n",
       "\t  1.8661777 & -0.33056786 &  0.018597724\\\\\n",
       "\t -0.0164274 &  0.23072836 & -0.005963838\\\\\n",
       "\t  0.8658126 & -1.24727031 & -0.600780348\\\\\n",
       "\t -0.2098829 &  0.10099371 &  0.050961033\\\\\n",
       "\t -1.4323949 & -0.27476195 &  0.611545222\\\\\n",
       "\\end{tabular}\n"
      ],
      "text/markdown": [
       "\n",
       "A matrix: 10 × 3 of type dbl\n",
       "\n",
       "| -2.0143042 | -0.98516170 |  0.424168592 |\n",
       "| -0.5371015 |  0.53175826 | -0.502902814 |\n",
       "| -0.3393259 |  0.09232117 | -0.115240123 |\n",
       "| -1.5317545 | -0.35196801 | -0.635547561 |\n",
       "| -2.5895558 |  1.62537096 | -0.900751720 |\n",
       "|  1.8661777 | -0.33056786 |  0.018597724 |\n",
       "| -0.0164274 |  0.23072836 | -0.005963838 |\n",
       "|  0.8658126 | -1.24727031 | -0.600780348 |\n",
       "| -0.2098829 |  0.10099371 |  0.050961033 |\n",
       "| -1.4323949 | -0.27476195 |  0.611545222 |\n",
       "\n"
      ],
      "text/plain": [
       "      [,1]       [,2]        [,3]        \n",
       " [1,] -2.0143042 -0.98516170  0.424168592\n",
       " [2,] -0.5371015  0.53175826 -0.502902814\n",
       " [3,] -0.3393259  0.09232117 -0.115240123\n",
       " [4,] -1.5317545 -0.35196801 -0.635547561\n",
       " [5,] -2.5895558  1.62537096 -0.900751720\n",
       " [6,]  1.8661777 -0.33056786  0.018597724\n",
       " [7,] -0.0164274  0.23072836 -0.005963838\n",
       " [8,]  0.8658126 -1.24727031 -0.600780348\n",
       " [9,] -0.2098829  0.10099371  0.050961033\n",
       "[10,] -1.4323949 -0.27476195  0.611545222"
      ]
     },
     "metadata": {},
     "output_type": "display_data"
    }
   ],
   "source": [
    "(w*X)*X - X*y"
   ]
  },
  {
   "cell_type": "code",
   "execution_count": 7,
   "metadata": {},
   "outputs": [],
   "source": [
    "res <- matrix(nrow = 10000,ncol = 3)\n",
    "for (i in 1:10000){\n",
    "    res[i,] <- X[i,]*t(X[i,])\n",
    "    }"
   ]
  },
  {
   "cell_type": "code",
   "execution_count": 8,
   "metadata": {},
   "outputs": [],
   "source": [
    "res2 <- matrix(nrow = 1000,ncol = 3)\n",
    "for (i in 1:1000){\n",
    "    res2[i,] <- X[i,]*y[i]\n",
    "    }"
   ]
  },
  {
   "cell_type": "code",
   "execution_count": 9,
   "metadata": {
    "scrolled": true
   },
   "outputs": [
    {
     "data": {
      "text/html": [
       "<style>\n",
       ".list-inline {list-style: none; margin:0; padding: 0}\n",
       ".list-inline>li {display: inline-block}\n",
       ".list-inline>li:not(:last-child)::after {content: \"\\00b7\"; padding: 0 .5ex}\n",
       "</style>\n",
       "<ol class=list-inline><li>0.109718095068157</li><li>0.106540423203124</li><li>0.0943623188468745</li></ol>\n"
      ],
      "text/latex": [
       "\\begin{enumerate*}\n",
       "\\item 0.109718095068157\n",
       "\\item 0.106540423203124\n",
       "\\item 0.0943623188468745\n",
       "\\end{enumerate*}\n"
      ],
      "text/markdown": [
       "1. 0.109718095068157\n",
       "2. 0.106540423203124\n",
       "3. 0.0943623188468745\n",
       "\n",
       "\n"
      ],
      "text/plain": [
       "[1] 0.10971810 0.10654042 0.09436232"
      ]
     },
     "metadata": {},
     "output_type": "display_data"
    }
   ],
   "source": [
    "1/(colSums(res)/1000)*(colSums(res2)/1000)"
   ]
  },
  {
   "cell_type": "code",
   "execution_count": 180,
   "metadata": {},
   "outputs": [
    {
     "data": {
      "text/html": [
       "<style>\n",
       ".list-inline {list-style: none; margin:0; padding: 0}\n",
       ".list-inline>li {display: inline-block}\n",
       ".list-inline>li:not(:last-child)::after {content: \"\\00b7\"; padding: 0 .5ex}\n",
       "</style>\n",
       "<ol class=list-inline><li>1.43430175271982</li><li>0.653698526915882</li><li>0.194187769033458</li></ol>\n"
      ],
      "text/latex": [
       "\\begin{enumerate*}\n",
       "\\item 1.43430175271982\n",
       "\\item 0.653698526915882\n",
       "\\item 0.194187769033458\n",
       "\\end{enumerate*}\n"
      ],
      "text/markdown": [
       "1. 1.43430175271982\n",
       "2. 0.653698526915882\n",
       "3. 0.194187769033458\n",
       "\n",
       "\n"
      ],
      "text/plain": [
       "[1] 1.4343018 0.6536985 0.1941878"
      ]
     },
     "metadata": {},
     "output_type": "display_data"
    }
   ],
   "source": [
    "(colSums(res2)/10)"
   ]
  },
  {
   "cell_type": "code",
   "execution_count": 236,
   "metadata": {},
   "outputs": [
    {
     "ename": "ERROR",
     "evalue": "Error in t(X[i, ]) %*% y[i]: argumentos no compatibles\n",
     "output_type": "error",
     "traceback": [
      "Error in t(X[i, ]) %*% y[i]: argumentos no compatibles\nTraceback:\n"
     ]
    }
   ],
   "source": [
    "t(X[i,])%*%y[i]"
   ]
  },
  {
   "cell_type": "code",
   "execution_count": null,
   "metadata": {},
   "outputs": [],
   "source": [
    "res <- matrix(nrow = 3,ncol = 10000)\n",
    "for (i in 1:10000){\n",
    "res[,i] <- matrix(X[i,])%*%y[i]\n",
    "    }"
   ]
  },
  {
   "cell_type": "code",
   "execution_count": 261,
   "metadata": {},
   "outputs": [],
   "source": [
    "res <- matrix(nrow = 3,ncol = 10000)\n",
    "for (i in 1:10000){\n",
    "res[,i] <- matrix(X[i,])%*%y[i]\n",
    "    }"
   ]
  },
  {
   "cell_type": "code",
   "execution_count": 268,
   "metadata": {},
   "outputs": [
    {
     "data": {
      "text/html": [
       "<style>\n",
       ".list-inline {list-style: none; margin:0; padding: 0}\n",
       ".list-inline>li {display: inline-block}\n",
       ".list-inline>li:not(:last-child)::after {content: \"\\00b7\"; padding: 0 .5ex}\n",
       "</style>\n",
       "<ol class=list-inline><li>10119.6441867303</li><li>2400.63391229128</li><li>1020.8656506887</li></ol>\n"
      ],
      "text/latex": [
       "\\begin{enumerate*}\n",
       "\\item 10119.6441867303\n",
       "\\item 2400.63391229128\n",
       "\\item 1020.8656506887\n",
       "\\end{enumerate*}\n"
      ],
      "text/markdown": [
       "1. 10119.6441867303\n",
       "2. 2400.63391229128\n",
       "3. 1020.8656506887\n",
       "\n",
       "\n"
      ],
      "text/plain": [
       "[1] 10119.644  2400.634  1020.866"
      ]
     },
     "metadata": {},
     "output_type": "display_data"
    }
   ],
   "source": [
    "rowSums(res)"
   ]
  },
  {
   "cell_type": "code",
   "execution_count": 267,
   "metadata": {},
   "outputs": [
    {
     "data": {
      "text/html": [
       "<table>\n",
       "<caption>A matrix: 3 × 1 of type dbl</caption>\n",
       "<tbody>\n",
       "\t<tr><td>10119.644</td></tr>\n",
       "\t<tr><td> 2400.634</td></tr>\n",
       "\t<tr><td> 1020.866</td></tr>\n",
       "</tbody>\n",
       "</table>\n"
      ],
      "text/latex": [
       "A matrix: 3 × 1 of type dbl\n",
       "\\begin{tabular}{l}\n",
       "\t 10119.644\\\\\n",
       "\t  2400.634\\\\\n",
       "\t  1020.866\\\\\n",
       "\\end{tabular}\n"
      ],
      "text/markdown": [
       "\n",
       "A matrix: 3 × 1 of type dbl\n",
       "\n",
       "| 10119.644 |\n",
       "|  2400.634 |\n",
       "|  1020.866 |\n",
       "\n"
      ],
      "text/plain": [
       "     [,1]     \n",
       "[1,] 10119.644\n",
       "[2,]  2400.634\n",
       "[3,]  1020.866"
      ]
     },
     "metadata": {},
     "output_type": "display_data"
    }
   ],
   "source": [
    "t(X)%*%matrix(y)"
   ]
  },
  {
   "cell_type": "code",
   "execution_count": 10,
   "metadata": {
    "scrolled": true
   },
   "outputs": [
    {
     "data": {
      "text/html": [
       "<table>\n",
       "<caption>A matrix: 3 × 1 of type dbl</caption>\n",
       "<tbody>\n",
       "\t<tr><td>1.0052685</td></tr>\n",
       "\t<tr><td>0.9910455</td></tr>\n",
       "\t<tr><td>0.9984412</td></tr>\n",
       "</tbody>\n",
       "</table>\n"
      ],
      "text/latex": [
       "A matrix: 3 × 1 of type dbl\n",
       "\\begin{tabular}{l}\n",
       "\t 1.0052685\\\\\n",
       "\t 0.9910455\\\\\n",
       "\t 0.9984412\\\\\n",
       "\\end{tabular}\n"
      ],
      "text/markdown": [
       "\n",
       "A matrix: 3 × 1 of type dbl\n",
       "\n",
       "| 1.0052685 |\n",
       "| 0.9910455 |\n",
       "| 0.9984412 |\n",
       "\n"
      ],
      "text/plain": [
       "     [,1]     \n",
       "[1,] 1.0052685\n",
       "[2,] 0.9910455\n",
       "[3,] 0.9984412"
      ]
     },
     "metadata": {},
     "output_type": "display_data"
    }
   ],
   "source": [
    "solve(t(X)%*%X)%*%t(X)%*%matrix(y)"
   ]
  },
  {
   "cell_type": "code",
   "execution_count": 285,
   "metadata": {},
   "outputs": [
    {
     "data": {
      "text/html": [
       "<table>\n",
       "<caption>A matrix: 3 × 1 of type dbl</caption>\n",
       "<tbody>\n",
       "\t<tr><td>10119.644</td></tr>\n",
       "\t<tr><td> 2400.634</td></tr>\n",
       "\t<tr><td> 1020.866</td></tr>\n",
       "</tbody>\n",
       "</table>\n"
      ],
      "text/latex": [
       "A matrix: 3 × 1 of type dbl\n",
       "\\begin{tabular}{l}\n",
       "\t 10119.644\\\\\n",
       "\t  2400.634\\\\\n",
       "\t  1020.866\\\\\n",
       "\\end{tabular}\n"
      ],
      "text/markdown": [
       "\n",
       "A matrix: 3 × 1 of type dbl\n",
       "\n",
       "| 10119.644 |\n",
       "|  2400.634 |\n",
       "|  1020.866 |\n",
       "\n"
      ],
      "text/plain": [
       "     [,1]     \n",
       "[1,] 10119.644\n",
       "[2,]  2400.634\n",
       "[3,]  1020.866"
      ]
     },
     "metadata": {},
     "output_type": "display_data"
    }
   ],
   "source": [
    "t(X)%*%matrix(y)"
   ]
  }
 ],
 "metadata": {
  "kernelspec": {
   "display_name": "R",
   "language": "R",
   "name": "ir"
  },
  "language_info": {
   "codemirror_mode": "r",
   "file_extension": ".r",
   "mimetype": "text/x-r-source",
   "name": "R",
   "pygments_lexer": "r",
   "version": "3.6.1"
  }
 },
 "nbformat": 4,
 "nbformat_minor": 2
}
